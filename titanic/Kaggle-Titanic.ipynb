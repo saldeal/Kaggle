{
 "cells": [
  {
   "cell_type": "markdown",
   "metadata": {},
   "source": [
    "# Kaggle - Titanic - Survival prediction\n",
    "## Reading train and test data"
   ]
  },
  {
   "cell_type": "code",
   "execution_count": 27,
   "metadata": {
    "collapsed": true
   },
   "outputs": [],
   "source": [
    "import numpy as np\n",
    "import pandas as pd\n",
    "import re\n",
    "\n",
    "import matplotlib.pyplot as plt\n",
    "import seaborn as sns\n",
    "%matplotlib inline\n",
    "sns.set() # Plot style\n",
    "\n",
    "\n",
    "import IPython\n",
    "IPython.core.pylabtools.figsize(12, 4)\n",
    "\n",
    "# Import models\n",
    "from sklearn.linear_model import LogisticRegression\n",
    "from sklearn.svm import SVC, LinearSVC\n",
    "from sklearn.ensemble import RandomForestClassifier\n",
    "from sklearn.neighbors import KNeighborsClassifier\n",
    "from sklearn.naive_bayes import GaussianNB\n",
    "from sklearn.linear_model import Perceptron\n",
    "from sklearn.linear_model import SGDClassifier\n",
    "from sklearn.tree import DecisionTreeClassifier"
   ]
  },
  {
   "cell_type": "code",
   "execution_count": 2,
   "metadata": {},
   "outputs": [
    {
     "data": {
      "text/html": [
       "<div>\n",
       "<style>\n",
       "    .dataframe thead tr:only-child th {\n",
       "        text-align: right;\n",
       "    }\n",
       "\n",
       "    .dataframe thead th {\n",
       "        text-align: left;\n",
       "    }\n",
       "\n",
       "    .dataframe tbody tr th {\n",
       "        vertical-align: top;\n",
       "    }\n",
       "</style>\n",
       "<table border=\"1\" class=\"dataframe\">\n",
       "  <thead>\n",
       "    <tr style=\"text-align: right;\">\n",
       "      <th></th>\n",
       "      <th>PassengerId</th>\n",
       "      <th>Survived</th>\n",
       "      <th>Pclass</th>\n",
       "      <th>Name</th>\n",
       "      <th>Sex</th>\n",
       "      <th>Age</th>\n",
       "      <th>SibSp</th>\n",
       "      <th>Parch</th>\n",
       "      <th>Ticket</th>\n",
       "      <th>Fare</th>\n",
       "      <th>Cabin</th>\n",
       "      <th>Embarked</th>\n",
       "    </tr>\n",
       "  </thead>\n",
       "  <tbody>\n",
       "    <tr>\n",
       "      <th>0</th>\n",
       "      <td>1</td>\n",
       "      <td>0</td>\n",
       "      <td>3</td>\n",
       "      <td>Braund, Mr. Owen Harris</td>\n",
       "      <td>male</td>\n",
       "      <td>22.0</td>\n",
       "      <td>1</td>\n",
       "      <td>0</td>\n",
       "      <td>A/5 21171</td>\n",
       "      <td>7.2500</td>\n",
       "      <td>NaN</td>\n",
       "      <td>S</td>\n",
       "    </tr>\n",
       "    <tr>\n",
       "      <th>1</th>\n",
       "      <td>2</td>\n",
       "      <td>1</td>\n",
       "      <td>1</td>\n",
       "      <td>Cumings, Mrs. John Bradley (Florence Briggs Th...</td>\n",
       "      <td>female</td>\n",
       "      <td>38.0</td>\n",
       "      <td>1</td>\n",
       "      <td>0</td>\n",
       "      <td>PC 17599</td>\n",
       "      <td>71.2833</td>\n",
       "      <td>C85</td>\n",
       "      <td>C</td>\n",
       "    </tr>\n",
       "    <tr>\n",
       "      <th>2</th>\n",
       "      <td>3</td>\n",
       "      <td>1</td>\n",
       "      <td>3</td>\n",
       "      <td>Heikkinen, Miss. Laina</td>\n",
       "      <td>female</td>\n",
       "      <td>26.0</td>\n",
       "      <td>0</td>\n",
       "      <td>0</td>\n",
       "      <td>STON/O2. 3101282</td>\n",
       "      <td>7.9250</td>\n",
       "      <td>NaN</td>\n",
       "      <td>S</td>\n",
       "    </tr>\n",
       "    <tr>\n",
       "      <th>3</th>\n",
       "      <td>4</td>\n",
       "      <td>1</td>\n",
       "      <td>1</td>\n",
       "      <td>Futrelle, Mrs. Jacques Heath (Lily May Peel)</td>\n",
       "      <td>female</td>\n",
       "      <td>35.0</td>\n",
       "      <td>1</td>\n",
       "      <td>0</td>\n",
       "      <td>113803</td>\n",
       "      <td>53.1000</td>\n",
       "      <td>C123</td>\n",
       "      <td>S</td>\n",
       "    </tr>\n",
       "    <tr>\n",
       "      <th>4</th>\n",
       "      <td>5</td>\n",
       "      <td>0</td>\n",
       "      <td>3</td>\n",
       "      <td>Allen, Mr. William Henry</td>\n",
       "      <td>male</td>\n",
       "      <td>35.0</td>\n",
       "      <td>0</td>\n",
       "      <td>0</td>\n",
       "      <td>373450</td>\n",
       "      <td>8.0500</td>\n",
       "      <td>NaN</td>\n",
       "      <td>S</td>\n",
       "    </tr>\n",
       "  </tbody>\n",
       "</table>\n",
       "</div>"
      ],
      "text/plain": [
       "   PassengerId  Survived  Pclass  \\\n",
       "0            1         0       3   \n",
       "1            2         1       1   \n",
       "2            3         1       3   \n",
       "3            4         1       1   \n",
       "4            5         0       3   \n",
       "\n",
       "                                                Name     Sex   Age  SibSp  \\\n",
       "0                            Braund, Mr. Owen Harris    male  22.0      1   \n",
       "1  Cumings, Mrs. John Bradley (Florence Briggs Th...  female  38.0      1   \n",
       "2                             Heikkinen, Miss. Laina  female  26.0      0   \n",
       "3       Futrelle, Mrs. Jacques Heath (Lily May Peel)  female  35.0      1   \n",
       "4                           Allen, Mr. William Henry    male  35.0      0   \n",
       "\n",
       "   Parch            Ticket     Fare Cabin Embarked  \n",
       "0      0         A/5 21171   7.2500   NaN        S  \n",
       "1      0          PC 17599  71.2833   C85        C  \n",
       "2      0  STON/O2. 3101282   7.9250   NaN        S  \n",
       "3      0            113803  53.1000  C123        S  \n",
       "4      0            373450   8.0500   NaN        S  "
      ]
     },
     "execution_count": 2,
     "metadata": {},
     "output_type": "execute_result"
    }
   ],
   "source": [
    "# Open CSV file for train data and test data\n",
    "df = []\n",
    "df.append(pd.read_csv('data/train.csv'))\n",
    "df.append(pd.read_csv('data/test.csv'))\n",
    "\n",
    "# Create two different pointers to the train and the test data\n",
    "df_train = df[0]\n",
    "df_train.head()"
   ]
  },
  {
   "cell_type": "code",
   "execution_count": 3,
   "metadata": {
    "scrolled": true
   },
   "outputs": [
    {
     "data": {
      "text/html": [
       "<div>\n",
       "<style>\n",
       "    .dataframe thead tr:only-child th {\n",
       "        text-align: right;\n",
       "    }\n",
       "\n",
       "    .dataframe thead th {\n",
       "        text-align: left;\n",
       "    }\n",
       "\n",
       "    .dataframe tbody tr th {\n",
       "        vertical-align: top;\n",
       "    }\n",
       "</style>\n",
       "<table border=\"1\" class=\"dataframe\">\n",
       "  <thead>\n",
       "    <tr style=\"text-align: right;\">\n",
       "      <th></th>\n",
       "      <th>PassengerId</th>\n",
       "      <th>Pclass</th>\n",
       "      <th>Name</th>\n",
       "      <th>Sex</th>\n",
       "      <th>Age</th>\n",
       "      <th>SibSp</th>\n",
       "      <th>Parch</th>\n",
       "      <th>Ticket</th>\n",
       "      <th>Fare</th>\n",
       "      <th>Cabin</th>\n",
       "      <th>Embarked</th>\n",
       "    </tr>\n",
       "  </thead>\n",
       "  <tbody>\n",
       "    <tr>\n",
       "      <th>0</th>\n",
       "      <td>892</td>\n",
       "      <td>3</td>\n",
       "      <td>Kelly, Mr. James</td>\n",
       "      <td>male</td>\n",
       "      <td>34.5</td>\n",
       "      <td>0</td>\n",
       "      <td>0</td>\n",
       "      <td>330911</td>\n",
       "      <td>7.8292</td>\n",
       "      <td>NaN</td>\n",
       "      <td>Q</td>\n",
       "    </tr>\n",
       "    <tr>\n",
       "      <th>1</th>\n",
       "      <td>893</td>\n",
       "      <td>3</td>\n",
       "      <td>Wilkes, Mrs. James (Ellen Needs)</td>\n",
       "      <td>female</td>\n",
       "      <td>47.0</td>\n",
       "      <td>1</td>\n",
       "      <td>0</td>\n",
       "      <td>363272</td>\n",
       "      <td>7.0000</td>\n",
       "      <td>NaN</td>\n",
       "      <td>S</td>\n",
       "    </tr>\n",
       "    <tr>\n",
       "      <th>2</th>\n",
       "      <td>894</td>\n",
       "      <td>2</td>\n",
       "      <td>Myles, Mr. Thomas Francis</td>\n",
       "      <td>male</td>\n",
       "      <td>62.0</td>\n",
       "      <td>0</td>\n",
       "      <td>0</td>\n",
       "      <td>240276</td>\n",
       "      <td>9.6875</td>\n",
       "      <td>NaN</td>\n",
       "      <td>Q</td>\n",
       "    </tr>\n",
       "    <tr>\n",
       "      <th>3</th>\n",
       "      <td>895</td>\n",
       "      <td>3</td>\n",
       "      <td>Wirz, Mr. Albert</td>\n",
       "      <td>male</td>\n",
       "      <td>27.0</td>\n",
       "      <td>0</td>\n",
       "      <td>0</td>\n",
       "      <td>315154</td>\n",
       "      <td>8.6625</td>\n",
       "      <td>NaN</td>\n",
       "      <td>S</td>\n",
       "    </tr>\n",
       "    <tr>\n",
       "      <th>4</th>\n",
       "      <td>896</td>\n",
       "      <td>3</td>\n",
       "      <td>Hirvonen, Mrs. Alexander (Helga E Lindqvist)</td>\n",
       "      <td>female</td>\n",
       "      <td>22.0</td>\n",
       "      <td>1</td>\n",
       "      <td>1</td>\n",
       "      <td>3101298</td>\n",
       "      <td>12.2875</td>\n",
       "      <td>NaN</td>\n",
       "      <td>S</td>\n",
       "    </tr>\n",
       "  </tbody>\n",
       "</table>\n",
       "</div>"
      ],
      "text/plain": [
       "   PassengerId  Pclass                                          Name     Sex  \\\n",
       "0          892       3                              Kelly, Mr. James    male   \n",
       "1          893       3              Wilkes, Mrs. James (Ellen Needs)  female   \n",
       "2          894       2                     Myles, Mr. Thomas Francis    male   \n",
       "3          895       3                              Wirz, Mr. Albert    male   \n",
       "4          896       3  Hirvonen, Mrs. Alexander (Helga E Lindqvist)  female   \n",
       "\n",
       "    Age  SibSp  Parch   Ticket     Fare Cabin Embarked  \n",
       "0  34.5      0      0   330911   7.8292   NaN        Q  \n",
       "1  47.0      1      0   363272   7.0000   NaN        S  \n",
       "2  62.0      0      0   240276   9.6875   NaN        Q  \n",
       "3  27.0      0      0   315154   8.6625   NaN        S  \n",
       "4  22.0      1      1  3101298  12.2875   NaN        S  "
      ]
     },
     "execution_count": 3,
     "metadata": {},
     "output_type": "execute_result"
    }
   ],
   "source": [
    "df_test = df[1]\n",
    "df_test.head()"
   ]
  },
  {
   "cell_type": "code",
   "execution_count": 4,
   "metadata": {
    "collapsed": true
   },
   "outputs": [],
   "source": [
    "combined = df[0].append(df[1])"
   ]
  },
  {
   "cell_type": "code",
   "execution_count": 5,
   "metadata": {},
   "outputs": [
    {
     "name": "stdout",
     "output_type": "stream",
     "text": [
      "(891, 12)\n",
      "(1309, 12)\n"
     ]
    }
   ],
   "source": [
    "print df_train.shape\n",
    "print combined.shape"
   ]
  },
  {
   "cell_type": "markdown",
   "metadata": {},
   "source": [
    "## Exploration of the data"
   ]
  },
  {
   "cell_type": "code",
   "execution_count": 6,
   "metadata": {},
   "outputs": [
    {
     "data": {
      "text/html": [
       "<div>\n",
       "<style>\n",
       "    .dataframe thead tr:only-child th {\n",
       "        text-align: right;\n",
       "    }\n",
       "\n",
       "    .dataframe thead th {\n",
       "        text-align: left;\n",
       "    }\n",
       "\n",
       "    .dataframe tbody tr th {\n",
       "        vertical-align: top;\n",
       "    }\n",
       "</style>\n",
       "<table border=\"1\" class=\"dataframe\">\n",
       "  <thead>\n",
       "    <tr style=\"text-align: right;\">\n",
       "      <th></th>\n",
       "      <th>PassengerId</th>\n",
       "      <th>Survived</th>\n",
       "      <th>Pclass</th>\n",
       "      <th>Age</th>\n",
       "      <th>SibSp</th>\n",
       "      <th>Parch</th>\n",
       "      <th>Fare</th>\n",
       "    </tr>\n",
       "  </thead>\n",
       "  <tbody>\n",
       "    <tr>\n",
       "      <th>count</th>\n",
       "      <td>891.000000</td>\n",
       "      <td>891.000000</td>\n",
       "      <td>891.000000</td>\n",
       "      <td>714.000000</td>\n",
       "      <td>891.000000</td>\n",
       "      <td>891.000000</td>\n",
       "      <td>891.000000</td>\n",
       "    </tr>\n",
       "    <tr>\n",
       "      <th>mean</th>\n",
       "      <td>446.000000</td>\n",
       "      <td>0.383838</td>\n",
       "      <td>2.308642</td>\n",
       "      <td>29.699118</td>\n",
       "      <td>0.523008</td>\n",
       "      <td>0.381594</td>\n",
       "      <td>32.204208</td>\n",
       "    </tr>\n",
       "    <tr>\n",
       "      <th>std</th>\n",
       "      <td>257.353842</td>\n",
       "      <td>0.486592</td>\n",
       "      <td>0.836071</td>\n",
       "      <td>14.526497</td>\n",
       "      <td>1.102743</td>\n",
       "      <td>0.806057</td>\n",
       "      <td>49.693429</td>\n",
       "    </tr>\n",
       "    <tr>\n",
       "      <th>min</th>\n",
       "      <td>1.000000</td>\n",
       "      <td>0.000000</td>\n",
       "      <td>1.000000</td>\n",
       "      <td>0.420000</td>\n",
       "      <td>0.000000</td>\n",
       "      <td>0.000000</td>\n",
       "      <td>0.000000</td>\n",
       "    </tr>\n",
       "    <tr>\n",
       "      <th>25%</th>\n",
       "      <td>223.500000</td>\n",
       "      <td>0.000000</td>\n",
       "      <td>2.000000</td>\n",
       "      <td>20.125000</td>\n",
       "      <td>0.000000</td>\n",
       "      <td>0.000000</td>\n",
       "      <td>7.910400</td>\n",
       "    </tr>\n",
       "    <tr>\n",
       "      <th>50%</th>\n",
       "      <td>446.000000</td>\n",
       "      <td>0.000000</td>\n",
       "      <td>3.000000</td>\n",
       "      <td>28.000000</td>\n",
       "      <td>0.000000</td>\n",
       "      <td>0.000000</td>\n",
       "      <td>14.454200</td>\n",
       "    </tr>\n",
       "    <tr>\n",
       "      <th>75%</th>\n",
       "      <td>668.500000</td>\n",
       "      <td>1.000000</td>\n",
       "      <td>3.000000</td>\n",
       "      <td>38.000000</td>\n",
       "      <td>1.000000</td>\n",
       "      <td>0.000000</td>\n",
       "      <td>31.000000</td>\n",
       "    </tr>\n",
       "    <tr>\n",
       "      <th>max</th>\n",
       "      <td>891.000000</td>\n",
       "      <td>1.000000</td>\n",
       "      <td>3.000000</td>\n",
       "      <td>80.000000</td>\n",
       "      <td>8.000000</td>\n",
       "      <td>6.000000</td>\n",
       "      <td>512.329200</td>\n",
       "    </tr>\n",
       "  </tbody>\n",
       "</table>\n",
       "</div>"
      ],
      "text/plain": [
       "       PassengerId    Survived      Pclass         Age       SibSp  \\\n",
       "count   891.000000  891.000000  891.000000  714.000000  891.000000   \n",
       "mean    446.000000    0.383838    2.308642   29.699118    0.523008   \n",
       "std     257.353842    0.486592    0.836071   14.526497    1.102743   \n",
       "min       1.000000    0.000000    1.000000    0.420000    0.000000   \n",
       "25%     223.500000    0.000000    2.000000   20.125000    0.000000   \n",
       "50%     446.000000    0.000000    3.000000   28.000000    0.000000   \n",
       "75%     668.500000    1.000000    3.000000   38.000000    1.000000   \n",
       "max     891.000000    1.000000    3.000000   80.000000    8.000000   \n",
       "\n",
       "            Parch        Fare  \n",
       "count  891.000000  891.000000  \n",
       "mean     0.381594   32.204208  \n",
       "std      0.806057   49.693429  \n",
       "min      0.000000    0.000000  \n",
       "25%      0.000000    7.910400  \n",
       "50%      0.000000   14.454200  \n",
       "75%      0.000000   31.000000  \n",
       "max      6.000000  512.329200  "
      ]
     },
     "execution_count": 6,
     "metadata": {},
     "output_type": "execute_result"
    }
   ],
   "source": [
    "df_train.describe()"
   ]
  },
  {
   "cell_type": "code",
   "execution_count": 7,
   "metadata": {},
   "outputs": [
    {
     "data": {
      "text/html": [
       "<div>\n",
       "<style>\n",
       "    .dataframe thead tr:only-child th {\n",
       "        text-align: right;\n",
       "    }\n",
       "\n",
       "    .dataframe thead th {\n",
       "        text-align: left;\n",
       "    }\n",
       "\n",
       "    .dataframe tbody tr th {\n",
       "        vertical-align: top;\n",
       "    }\n",
       "</style>\n",
       "<table border=\"1\" class=\"dataframe\">\n",
       "  <thead>\n",
       "    <tr style=\"text-align: right;\">\n",
       "      <th></th>\n",
       "      <th>PassengerId</th>\n",
       "      <th>Pclass</th>\n",
       "      <th>Age</th>\n",
       "      <th>SibSp</th>\n",
       "      <th>Parch</th>\n",
       "      <th>Fare</th>\n",
       "    </tr>\n",
       "  </thead>\n",
       "  <tbody>\n",
       "    <tr>\n",
       "      <th>count</th>\n",
       "      <td>418.000000</td>\n",
       "      <td>418.000000</td>\n",
       "      <td>332.000000</td>\n",
       "      <td>418.000000</td>\n",
       "      <td>418.000000</td>\n",
       "      <td>417.000000</td>\n",
       "    </tr>\n",
       "    <tr>\n",
       "      <th>mean</th>\n",
       "      <td>1100.500000</td>\n",
       "      <td>2.265550</td>\n",
       "      <td>30.272590</td>\n",
       "      <td>0.447368</td>\n",
       "      <td>0.392344</td>\n",
       "      <td>35.627188</td>\n",
       "    </tr>\n",
       "    <tr>\n",
       "      <th>std</th>\n",
       "      <td>120.810458</td>\n",
       "      <td>0.841838</td>\n",
       "      <td>14.181209</td>\n",
       "      <td>0.896760</td>\n",
       "      <td>0.981429</td>\n",
       "      <td>55.907576</td>\n",
       "    </tr>\n",
       "    <tr>\n",
       "      <th>min</th>\n",
       "      <td>892.000000</td>\n",
       "      <td>1.000000</td>\n",
       "      <td>0.170000</td>\n",
       "      <td>0.000000</td>\n",
       "      <td>0.000000</td>\n",
       "      <td>0.000000</td>\n",
       "    </tr>\n",
       "    <tr>\n",
       "      <th>25%</th>\n",
       "      <td>996.250000</td>\n",
       "      <td>1.000000</td>\n",
       "      <td>21.000000</td>\n",
       "      <td>0.000000</td>\n",
       "      <td>0.000000</td>\n",
       "      <td>7.895800</td>\n",
       "    </tr>\n",
       "    <tr>\n",
       "      <th>50%</th>\n",
       "      <td>1100.500000</td>\n",
       "      <td>3.000000</td>\n",
       "      <td>27.000000</td>\n",
       "      <td>0.000000</td>\n",
       "      <td>0.000000</td>\n",
       "      <td>14.454200</td>\n",
       "    </tr>\n",
       "    <tr>\n",
       "      <th>75%</th>\n",
       "      <td>1204.750000</td>\n",
       "      <td>3.000000</td>\n",
       "      <td>39.000000</td>\n",
       "      <td>1.000000</td>\n",
       "      <td>0.000000</td>\n",
       "      <td>31.500000</td>\n",
       "    </tr>\n",
       "    <tr>\n",
       "      <th>max</th>\n",
       "      <td>1309.000000</td>\n",
       "      <td>3.000000</td>\n",
       "      <td>76.000000</td>\n",
       "      <td>8.000000</td>\n",
       "      <td>9.000000</td>\n",
       "      <td>512.329200</td>\n",
       "    </tr>\n",
       "  </tbody>\n",
       "</table>\n",
       "</div>"
      ],
      "text/plain": [
       "       PassengerId      Pclass         Age       SibSp       Parch        Fare\n",
       "count   418.000000  418.000000  332.000000  418.000000  418.000000  417.000000\n",
       "mean   1100.500000    2.265550   30.272590    0.447368    0.392344   35.627188\n",
       "std     120.810458    0.841838   14.181209    0.896760    0.981429   55.907576\n",
       "min     892.000000    1.000000    0.170000    0.000000    0.000000    0.000000\n",
       "25%     996.250000    1.000000   21.000000    0.000000    0.000000    7.895800\n",
       "50%    1100.500000    3.000000   27.000000    0.000000    0.000000   14.454200\n",
       "75%    1204.750000    3.000000   39.000000    1.000000    0.000000   31.500000\n",
       "max    1309.000000    3.000000   76.000000    8.000000    9.000000  512.329200"
      ]
     },
     "execution_count": 7,
     "metadata": {},
     "output_type": "execute_result"
    }
   ],
   "source": [
    "df_test.describe()"
   ]
  },
  {
   "cell_type": "code",
   "execution_count": 8,
   "metadata": {},
   "outputs": [
    {
     "data": {
      "text/html": [
       "<div>\n",
       "<style>\n",
       "    .dataframe thead tr:only-child th {\n",
       "        text-align: right;\n",
       "    }\n",
       "\n",
       "    .dataframe thead th {\n",
       "        text-align: left;\n",
       "    }\n",
       "\n",
       "    .dataframe tbody tr th {\n",
       "        vertical-align: top;\n",
       "    }\n",
       "</style>\n",
       "<table border=\"1\" class=\"dataframe\">\n",
       "  <thead>\n",
       "    <tr style=\"text-align: right;\">\n",
       "      <th></th>\n",
       "      <th>Name</th>\n",
       "      <th>Sex</th>\n",
       "      <th>Ticket</th>\n",
       "      <th>Cabin</th>\n",
       "      <th>Embarked</th>\n",
       "    </tr>\n",
       "  </thead>\n",
       "  <tbody>\n",
       "    <tr>\n",
       "      <th>count</th>\n",
       "      <td>891</td>\n",
       "      <td>891</td>\n",
       "      <td>891</td>\n",
       "      <td>204</td>\n",
       "      <td>889</td>\n",
       "    </tr>\n",
       "    <tr>\n",
       "      <th>unique</th>\n",
       "      <td>891</td>\n",
       "      <td>2</td>\n",
       "      <td>681</td>\n",
       "      <td>147</td>\n",
       "      <td>3</td>\n",
       "    </tr>\n",
       "    <tr>\n",
       "      <th>top</th>\n",
       "      <td>Graham, Mr. George Edward</td>\n",
       "      <td>male</td>\n",
       "      <td>CA. 2343</td>\n",
       "      <td>C23 C25 C27</td>\n",
       "      <td>S</td>\n",
       "    </tr>\n",
       "    <tr>\n",
       "      <th>freq</th>\n",
       "      <td>1</td>\n",
       "      <td>577</td>\n",
       "      <td>7</td>\n",
       "      <td>4</td>\n",
       "      <td>644</td>\n",
       "    </tr>\n",
       "  </tbody>\n",
       "</table>\n",
       "</div>"
      ],
      "text/plain": [
       "                             Name   Sex    Ticket        Cabin Embarked\n",
       "count                         891   891       891          204      889\n",
       "unique                        891     2       681          147        3\n",
       "top     Graham, Mr. George Edward  male  CA. 2343  C23 C25 C27        S\n",
       "freq                            1   577         7            4      644"
      ]
     },
     "execution_count": 8,
     "metadata": {},
     "output_type": "execute_result"
    }
   ],
   "source": [
    "df_train.describe(include=['O'])"
   ]
  },
  {
   "cell_type": "code",
   "execution_count": 9,
   "metadata": {},
   "outputs": [
    {
     "name": "stdout",
     "output_type": "stream",
     "text": [
      "Analysis of null in training dataset\n",
      "-----------------------------------\n",
      "Passenger_id nulls: 0\n",
      "Pclass nulls: 0\n",
      "Age nulls: 177\n",
      "SibSp nulls: 0\n",
      "Parch nulls: 0\n",
      "Ticket nulls: 0\n",
      "Fare nulls: 0\n",
      "Cabin nulls: 687\n",
      "Embarked nulls: 2\n",
      "-----------------------------------\n",
      "Mean/Median/Mode in training dataset per column\n",
      "-----------------------------------\n",
      "Embarked:\n",
      "S    644\n",
      "C    168\n",
      "Q     77\n",
      "Name: Embarked, dtype: int64\n",
      "Fare: Mean = 32.204208 , Median = 14.454200 , Mode = 8.050000\n",
      "Ticket:\n",
      "CA. 2343    7\n",
      "347082      7\n",
      "1601        7\n",
      "347088      6\n",
      "CA 2144     6\n",
      "Name: Ticket, dtype: int64\n",
      "Age: Mean = 29.699118 , Median = 28.000000 , Mode = 24.000000\n"
     ]
    }
   ],
   "source": [
    "print 'Analysis of null in training dataset'\n",
    "print '-----------------------------------'\n",
    "print 'Passenger_id nulls: ' + str(df_train['PassengerId'].isnull().sum())\n",
    "print 'Pclass nulls: ' + str(df_train['Pclass'].isnull().sum())\n",
    "print 'Age nulls: ' + str(df_train['Age'].isnull().sum())\n",
    "print 'SibSp nulls: ' + str(df_train['SibSp'].isnull().sum())\n",
    "print 'Parch nulls: ' + str(df_train['Parch'].isnull().sum())\n",
    "print 'Ticket nulls: ' + str(df_train['Ticket'].isnull().sum())\n",
    "print 'Fare nulls: ' + str(df_train['Fare'].isnull().sum())\n",
    "print 'Cabin nulls: ' + str(df_train['Cabin'].isnull().sum())\n",
    "print 'Embarked nulls: ' + str(df_train['Embarked'].isnull().sum())\n",
    "print '-----------------------------------'\n",
    "nan_rows = df_train[df_train['Age'].isnull()]\n",
    "nan_rows.loc[:,:].head()\n",
    "\n",
    "# Most frequent value per column\n",
    "print 'Mean/Median/Mode in training dataset per column'\n",
    "print '-----------------------------------'\n",
    "print 'Embarked:'\n",
    "print df_train['Embarked'].value_counts()\n",
    "\n",
    "print \"Fare: Mean = %f , Median = %f , Mode = %f\" % (df_train['Fare'].mean(),df_train['Fare'].median(),df_train['Fare'].mode())\n",
    "#print \"Fare: Mean = %f , Median = %f , Mode = %f\" % (df_train['Ticket'].mean(),df_train['Ticket'].median(),df_train['Ticket'].mode())\n",
    "print 'Ticket:'\n",
    "print df_train['Ticket'].value_counts().head()\n",
    "print \"Age: Mean = %f , Median = %f , Mode = %f\" % (df_train['Age'].mean(),df_train['Age'].median(),df_train['Age'].mode())"
   ]
  },
  {
   "cell_type": "markdown",
   "metadata": {},
   "source": [
    "#### Observations\n",
    "\n",
    "* Min(Fare) is 0. This could mean that there are babies (for example) free of charge, or actually errors.\n",
    "* We need to check the distribution of Fare prices, and decide whether making buckets or not.\n",
    "* There are 2 nulls in 'Embarked'. Replace NaN by 'S', by far the most repeated value.\n",
    "* Cabin nulls may mean people without a cabin, hence, there were less cabins than people.\n",
    "* Ticket is alphanumeric\n",
    "* We have five categorical variables: Sex, Embarked, Class, and Cabin"
   ]
  },
  {
   "cell_type": "markdown",
   "metadata": {},
   "source": [
    "### Ratio of survival in training data"
   ]
  },
  {
   "cell_type": "code",
   "execution_count": 10,
   "metadata": {},
   "outputs": [
    {
     "name": "stdout",
     "output_type": "stream",
     "text": [
      "Number of passengers: 891\n",
      "Number of survivors: 342\n",
      "Survival ratio in training data = 38.38%\n"
     ]
    }
   ],
   "source": [
    "from __future__ import division\n",
    "\n",
    "num_passengers_train = df_train.shape[0]\n",
    "print 'Number of passengers: ' + str(num_passengers_train)\n",
    "\n",
    "#num_passengers_survived_train = df_train.groupby('Survived').size()[1]\n",
    "num_passengers_survived_train = df_train[df_train['Survived']==1].shape[0]\n",
    "print 'Number of survivors: ' + str(num_passengers_survived_train)\n",
    "\n",
    "ratio_survival = (num_passengers_survived_train/num_passengers_train)\n",
    "print 'Survival ratio in training data = ' + str(round(ratio_survival*100,2)) + \"%\""
   ]
  },
  {
   "cell_type": "markdown",
   "metadata": {},
   "source": [
    "### Men vs women survival ratio"
   ]
  },
  {
   "cell_type": "code",
   "execution_count": 11,
   "metadata": {},
   "outputs": [
    {
     "name": "stdout",
     "output_type": "stream",
     "text": [
      "Women on board: 314\n",
      "Men on board: 577\n",
      "Survival ratio for women in training data = 74.2%\n",
      "Survival ratio for men in training data = 18.89%\n"
     ]
    }
   ],
   "source": [
    "# Break by men and women\n",
    "women_train = df_train[df_train['Sex']=='female']\n",
    "men_train = df_train[df_train['Sex']=='male']\n",
    "\n",
    "num_women_train = women_train.shape[0]\n",
    "num_men_train = men_train.shape[0]\n",
    "print 'Women on board: ' + str(num_women_train)\n",
    "print 'Men on board: ' + str(num_men_train)\n",
    "\n",
    "num_women_survived_train = women_train[women_train['Survived']==1].shape[0]\n",
    "num_men_survived_train = men_train[men_train['Survived']==1].shape[0]\n",
    "\n",
    "\n",
    "ratio_survival_women = (num_women_survived_train/num_women_train)\n",
    "ratio_survival_men = (num_men_survived_train/num_men_train)\n",
    "\n",
    "print 'Survival ratio for women in training data = ' + str(round(ratio_survival_women*100,2)) + \"%\"\n",
    "print 'Survival ratio for men in training data = ' + str(round(ratio_survival_men*100,2)) + \"%\""
   ]
  },
  {
   "cell_type": "markdown",
   "metadata": {},
   "source": [
    "## Data Visualisation\n",
    "* Constrast different subsets of variables to hint correlations"
   ]
  },
  {
   "cell_type": "markdown",
   "metadata": {},
   "source": [
    "### Survived vs Pclass and Sex"
   ]
  },
  {
   "cell_type": "code",
   "execution_count": 12,
   "metadata": {
    "scrolled": false
   },
   "outputs": [
    {
     "data": {
      "text/plain": [
       "[(0, 1.1)]"
      ]
     },
     "execution_count": 12,
     "metadata": {},
     "output_type": "execute_result"
    },
    {
     "data": {
      "image/png": "[encoded data removed]",
      "text/plain": [
       "<matplotlib.figure.Figure at 0x7f66a0bbd0d0>"
      ]
     },
     "metadata": {},
     "output_type": "display_data"
    },
    {
     "data": {
      "image/png": "[encoded data removed]",
      "text/plain": [
       "<matplotlib.figure.Figure at 0x7f66a0bbd090>"
      ]
     },
     "metadata": {},
     "output_type": "display_data"
    }
   ],
   "source": [
    "# First row\n",
    "# Survivors and classes\n",
    "fig, axs = plt.subplots(ncols=3)\n",
    "plt.subplots_adjust(left=0.1, bottom=0.1, right=0.9, top=0.9, wspace=0.5, hspace=0.2)\n",
    "fig_survived = sns.countplot('Survived', data=df_train, ax=axs[0])\n",
    "fig_pclass = sns.countplot('Pclass', data=df_train, ax=axs[1])\n",
    "fig_survived_per_class = sns.pointplot('Pclass', 'Survived', data=df_train, ax=axs[2])\n",
    "\n",
    "fig_survived_per_class.set(ylim=(0,1))\n",
    "fig_survived.set_title('Number of survivors')\n",
    "fig_pclass.set_title('People per class') \n",
    "fig_survived_per_class.set_title('% survival per class')\n",
    "\n",
    "# Second row\n",
    "# Proportion of survivors per class and sex\n",
    "fig, axs = plt.subplots(ncols=3)\n",
    "plt.subplots_adjust(left=0.1, bottom=0.1, right=0.9, top=0.9, wspace=0.5, hspace=0.2)\n",
    "fig_sex = sns.countplot('Sex', data=df_train, ax=axs[0])\n",
    "fig_survived_by_sex = sns.pointplot('Sex', 'Survived', data=df_train, ax=axs[1])\n",
    "fig_survived_by_sex_class = sns.pointplot('Pclass', 'Survived', data=df_train, hue='Sex', ax=axs[2])\n",
    "\n",
    "fig_sex.set_title('People per sex')\n",
    "fig_survived_by_sex.set_title('% survival per sex')\n",
    "fig_survived_by_sex.set(ylim=(0, 1.1))\n",
    "fig_survived_by_sex_class.set_title('% survival per sex & class')\n",
    "fig_survived_by_sex_class.set(ylim=(0, 1.1))"
   ]
  },
  {
   "cell_type": "markdown",
   "metadata": {},
   "source": [
    "#### Observations\n",
    "* The lower the class (3 is worst class than 1), the less the ratio of survival\n",
    "* Females have an incredible ratio of survival compare to male\n",
    "* \"Women and children first\" seems to be true. Check later the age to verify\n",
    "* Both Sex and Class seems very important for the survival ratio\n",
    "\n",
    "#### Actions\n",
    "* Sex and Class need to be included in the model\n",
    "* Check the real impact of these variables in the models\n"
   ]
  },
  {
   "cell_type": "markdown",
   "metadata": {},
   "source": [
    "### Survived vs embarkation point, class and sex"
   ]
  },
  {
   "cell_type": "code",
   "execution_count": 13,
   "metadata": {},
   "outputs": [
    {
     "data": {
      "text/plain": [
       "<seaborn.axisgrid.FacetGrid at 0x7f669d38a510>"
      ]
     },
     "execution_count": 13,
     "metadata": {},
     "output_type": "execute_result"
    },
    {
     "data": {
      "image/png": "[encoded data removed]",
      "text/plain": [
       "<matplotlib.figure.Figure at 0x7f66a0c39890>"
      ]
     },
     "metadata": {},
     "output_type": "display_data"
    },
    {
     "data": {
      "image/png": "[encoded data removed]",
      "text/plain": [
       "<matplotlib.figure.Figure at 0x7f669d305ad0>"
      ]
     },
     "metadata": {},
     "output_type": "display_data"
    }
   ],
   "source": [
    "# Third row\n",
    "# Proportion of survivors per embarked. Class per embark point\n",
    "fig, axs = plt.subplots(ncols=2)\n",
    "plt.subplots_adjust(left=0.1, bottom=0.1, right=0.9, top=0.9, wspace=0.5, hspace=0.2)\n",
    "fig_embarked = sns.countplot('Embarked', data=df_train, ax=axs[0])\n",
    "fig_survived_by_embarked = sns.pointplot('Embarked', 'Survived', data=df_train, ax=axs[1])\n",
    "\n",
    "fig_embarked.set_title('People per port')\n",
    "fig_survived_by_embarked.set_title('% survival per port of embarkation')\n",
    "\n",
    "# Fourth row\n",
    "grid = sns.FacetGrid(df_train, col='Embarked', size=3.5, aspect=1)\n",
    "grid.map(sns.pointplot, 'Pclass', 'Survived', 'Sex', palette='deep')\n",
    "grid.add_legend()"
   ]
  },
  {
   "cell_type": "markdown",
   "metadata": {},
   "source": [
    "#### Observations\n",
    "* The embarkation port seems to influence, specially in port C \n",
    "* Note that 'Male' survival is almost 100% for those who embarked from C, while female is signicantly lower!\n",
    "* Very low rate of survivals from port Q\n",
    "* Question: embarkation point could determine the cabin, and the location of the cabin in the Titanic could have been essential, depending on the point of impact with the iceberg\n",
    "\n",
    "#### Actions\n",
    "* "
   ]
  },
  {
   "cell_type": "markdown",
   "metadata": {},
   "source": [
    "### Survived vs Age"
   ]
  },
  {
   "cell_type": "code",
   "execution_count": 14,
   "metadata": {},
   "outputs": [
    {
     "data": {
      "text/plain": [
       "<seaborn.axisgrid.FacetGrid at 0x7f66a0bc0a50>"
      ]
     },
     "execution_count": 14,
     "metadata": {},
     "output_type": "execute_result"
    },
    {
     "data": {
      "image/png": "[encoded data removed]",
      "text/plain": [
       "<matplotlib.figure.Figure at 0x7f66a0bc0d50>"
      ]
     },
     "metadata": {},
     "output_type": "display_data"
    }
   ],
   "source": [
    "# Distribution of survived and dead by age\n",
    "g = sns.FacetGrid(df_train, col='Survived', size=4, aspect=1)\n",
    "g.map(plt.hist, 'Age', bins=20)"
   ]
  },
  {
   "cell_type": "code",
   "execution_count": 16,
   "metadata": {},
   "outputs": [
    {
     "name": "stdout",
     "output_type": "stream",
     "text": [
      "Median of Age for all classes: 28.0 years\n",
      "Median of Age for class 1: 37.0 years\n",
      "Median of Age for class 2: 29.0 years\n",
      "Median of Age for class 3: 24.0 years\n"
     ]
    },
    {
     "data": {
      "text/plain": [
       "<seaborn.axisgrid.FacetGrid at 0x7f669c8bf990>"
      ]
     },
     "execution_count": 16,
     "metadata": {},
     "output_type": "execute_result"
    },
    {
     "data": {
      "image/png": "[encoded data removed]",
      "text/plain": [
       "<matplotlib.figure.Figure at 0x7f669ce16d50>"
      ]
     },
     "metadata": {},
     "output_type": "display_data"
    },
    {
     "data": {
      "image/png": "[encoded data removed]",
      "text/plain": [
       "<matplotlib.figure.Figure at 0x7f669cbeb090>"
      ]
     },
     "metadata": {},
     "output_type": "display_data"
    },
    {
     "data": {
      "image/png": "[encoded data removed]",
      "text/plain": [
       "<matplotlib.figure.Figure at 0x7f669c8bfa50>"
      ]
     },
     "metadata": {},
     "output_type": "display_data"
    },
    {
     "data": {
      "image/png": "[encoded data removed]",
      "text/plain": [
       "<matplotlib.figure.Figure at 0x7f669c702f10>"
      ]
     },
     "metadata": {},
     "output_type": "display_data"
    }
   ],
   "source": [
    "# TODO: \n",
    "#fig = sns.FacetGrid(df_train, hue='Pclass', size=3, aspect=3)\n",
    "#fig.map(sns.kdeplot, 'Fare', shade=True, legend=True)\n",
    "#fig.set(xlim=(0, 80));\n",
    "#fig.set(ylim=(0, 0.1));\n",
    "#fig.add_legend()\n",
    "\n",
    "# Distribution of age by class\n",
    "fig = sns.FacetGrid(df_train, hue='Pclass', size=3, aspect=3)\n",
    "fig.map(sns.kdeplot, 'Age', shade=True)\n",
    "fig.set(xlim=(0, 80));\n",
    "fig.set(ylim=(0, 0.1));\n",
    "fig.add_legend()\n",
    "\n",
    "# Median of Age per class\n",
    "fig, axs = plt.subplots(ncols=2)\n",
    "plt.subplots_adjust(left=0.1, bottom=0.1, right=0.9, top=0.9, wspace=0.5, hspace=0.2)\n",
    "fig_median_age_class = sns.barplot(data=df_train, x='Pclass', y='Age', estimator=np.median, ax=axs[0])\n",
    "fig_mean_age_class = sns.barplot(data=df_train, x='Pclass', y='Age', estimator=np.mean, ax=axs[1])\n",
    "\n",
    "fig_median_age_class.set_title('Median of Age per class')\n",
    "fig_mean_age_class.set_title('Mean of Age per class')\n",
    "\n",
    "print 'Median of Age for all classes: ' + str(df_train['Age'].median()) + ' years'\n",
    "print 'Median of Age for class 1: ' + str(df_train[df_train['Pclass']==1]['Age'].median()) + ' years'\n",
    "print 'Median of Age for class 2: ' + str(df_train[df_train['Pclass']==2]['Age'].median()) + ' years'\n",
    "print 'Median of Age for class 3: ' + str(df_train[df_train['Pclass']==3]['Age'].median()) + ' years'\n",
    "\n",
    "df_train[(df_train['Pclass']==3) & (df_train['Embarked']=='S')]\n",
    "g = sns.FacetGrid(df_train, col='Pclass', size=4, aspect=1)\n",
    "g.map(plt.hist, 'Age', bins = 20)\n",
    "\n",
    "#g = sns.FacetGrid(df_train, col='Embarked', size=4, aspect=1)\n",
    "#g.map(plt.hist, 'Age', bins = 20)\n",
    "\n",
    "# Age by class and embarkation point\n",
    "g = sns.FacetGrid(df_train, row='Embarked', col='Pclass', size=2, aspect=2, margin_titles=True)\n",
    "g.map(plt.hist, 'Age', bins = 20)\n"
   ]
  },
  {
   "cell_type": "code",
   "execution_count": null,
   "metadata": {
    "collapsed": true
   },
   "outputs": [],
   "source": []
  },
  {
   "cell_type": "code",
   "execution_count": 17,
   "metadata": {},
   "outputs": [
    {
     "name": "stdout",
     "output_type": "stream",
     "text": [
      "How many kids in the titanic (train dataset) (<16): 83\n"
     ]
    }
   ],
   "source": [
    "# How many were not adults?\n",
    "print 'How many kids in the titanic (train dataset) (<16): ' + str(len(df_train[df_train['Age']<16]))"
   ]
  },
  {
   "cell_type": "markdown",
   "metadata": {},
   "source": [
    "#### Observations\n",
    "* There are a few children (<16). This could affect the survival ratio\n",
    "* Create buckets/bins for Age could be benefitial\n",
    "* Median/mean of age differs depending on the class. It makes senses, the older people would be wealthier\n",
    "#### Actions\n",
    "* Create a new variable 'Person' to distinguish between Woman, Man, and Child\n",
    "* Try creating a new variable 'Age_range' with 5-6 intervals\n",
    "* Fill NaN values in Age by taking the median per class (Consider embarkation point as well?)"
   ]
  },
  {
   "cell_type": "markdown",
   "metadata": {},
   "source": [
    "### Cabin vs Survived\n",
    "* Understanding of Cabin codes, and how this could have affected the survival ratio (Titanic's sink was at night)"
   ]
  },
  {
   "cell_type": "markdown",
   "metadata": {},
   "source": [
    "### Survived vs Fare"
   ]
  },
  {
   "cell_type": "code",
   "execution_count": 18,
   "metadata": {},
   "outputs": [
    {
     "name": "stdout",
     "output_type": "stream",
     "text": [
      "Fare nulls: 0\n"
     ]
    }
   ],
   "source": [
    "df_train.describe()\n",
    "print 'Fare nulls: ' + str(df_train['Fare'].isnull().sum())"
   ]
  },
  {
   "cell_type": "code",
   "execution_count": 19,
   "metadata": {},
   "outputs": [
    {
     "data": {
      "text/plain": [
       "<matplotlib.legend.Legend at 0x7f669b71e850>"
      ]
     },
     "execution_count": 19,
     "metadata": {},
     "output_type": "execute_result"
    },
    {
     "data": {
      "image/png": "[encoded data removed]",
      "text/plain": [
       "<matplotlib.figure.Figure at 0x7f669cbfeed0>"
      ]
     },
     "metadata": {},
     "output_type": "display_data"
    },
    {
     "data": {
      "image/png": "[encoded data removed]",
      "text/plain": [
       "<matplotlib.figure.Figure at 0x7f669cbfe310>"
      ]
     },
     "metadata": {},
     "output_type": "display_data"
    },
    {
     "data": {
      "image/png": "[encoded data removed]",
      "text/plain": [
       "<matplotlib.figure.Figure at 0x7f669b9f6850>"
      ]
     },
     "metadata": {},
     "output_type": "display_data"
    },
    {
     "data": {
      "image/png": "[encoded data removed]",
      "text/plain": [
       "<matplotlib.figure.Figure at 0x7f669b824350>"
      ]
     },
     "metadata": {},
     "output_type": "display_data"
    }
   ],
   "source": [
    "# Distribution of Fare\n",
    "sns.distplot(df_train['Fare'].dropna(), kde=True, rug=False)\n",
    "plt.suptitle('Distribution of Fares')\n",
    "#sns.distplot(df_train['Pclass'=='1'], kde=True, rug=False)\n",
    "\n",
    "fig, ax = plt.subplots()\n",
    "fig.suptitle('Distribution of Fares by class')\n",
    "sns.distplot(df_train[df_train['Pclass']==3]['Fare'], kde=True, rug=False, ax=ax, label=\"Class 3\")\n",
    "sns.distplot(df_train[df_train['Pclass']==2]['Fare'], kde=True, rug=False, ax=ax, label=\"Class 2\")\n",
    "sns.distplot(df_train[df_train['Pclass']==1]['Fare'], kde=True, rug=False, ax=ax, label=\"Class 1\")\n",
    "plt.legend()\n",
    "\n",
    "axes = plt.gca()\n",
    "axes.set_ylim([0,0.10])\n",
    "g = sns.FacetGrid(df_train, col='Pclass', size=4, aspect=1)\n",
    "g.map(plt.hist, 'Fare', bins = 20)\n",
    "\n",
    "\n",
    "#g = sns.FacetGrid(df_train, col='Survived', size=4, aspect=1)\n",
    "#g.map(plt.hist, 'Fare', bins=20)\n",
    "\n",
    "figure = plt.figure(figsize=(15,8))\n",
    "plt.hist([df_train[df_train['Survived']==1]['Fare'],df_train[df_train['Survived']==0]['Fare']], \n",
    "         stacked=True, color = ['g','r'],\n",
    "         bins = 20,label = ['Survived','Dead'])\n",
    "plt.xlabel('Fare')\n",
    "plt.ylabel('Number of passengers')\n",
    "plt.legend()"
   ]
  },
  {
   "cell_type": "markdown",
   "metadata": {},
   "source": [
    "#### Observations\n",
    "* Most of the people pay less than 40 for the ticket\n",
    "* The more someone paid, the better survival ratio. Those who paid more than 100, almost guaranteed their survival\n",
    "\n",
    "#### Actions"
   ]
  },
  {
   "cell_type": "markdown",
   "metadata": {},
   "source": [
    "## Feature engineering (I)\n",
    "* Check if there are NaN values in certain columns, such as Embarked, and replace them by other values\n",
    "* Data imputation is done in both train and test datasets, but only taking information from the train dataset. This way we avoid to include information from the test dataset into the train one. We may get higher accuracy by also exploring the test dataset, but this is not a good practice"
   ]
  },
  {
   "cell_type": "markdown",
   "metadata": {},
   "source": [
    "**Embarked**: Replace NaN in embarked by 'S', by far the most repeated value."
   ]
  },
  {
   "cell_type": "code",
   "execution_count": 20,
   "metadata": {},
   "outputs": [
    {
     "name": "stdout",
     "output_type": "stream",
     "text": [
      "Embarked nulls in train: 0\n",
      "Embarked nulls in test: 0\n"
     ]
    }
   ],
   "source": [
    "df_train['Embarked'] = df_train['Embarked'].fillna('S')\n",
    "print 'Embarked nulls in train: ' + str(df_train['Embarked'].isnull().sum())\n",
    "\n",
    "df_test['Embarked'] = df_test['Embarked'].fillna('S')\n",
    "print 'Embarked nulls in test: ' + str(df_test['Embarked'].isnull().sum())"
   ]
  },
  {
   "cell_type": "markdown",
   "metadata": {},
   "source": [
    "**Age**: Replace NaN by median depending on the class"
   ]
  },
  {
   "cell_type": "code",
   "execution_count": 21,
   "metadata": {
    "collapsed": true
   },
   "outputs": [],
   "source": [
    "median_age_class1 = df_train[df_train['Pclass']==1]['Age'].median()\n",
    "median_age_class2 = df_train[df_train['Pclass']==2]['Age'].median()\n",
    "median_age_class3 = df_train[df_train['Pclass']==3]['Age'].median()\n",
    "\n",
    "df_train[df_train['Pclass']==1] = df_train[df_train['Pclass']==1].fillna(median_age_class1)\n",
    "df_train[df_train['Pclass']==2] = df_train[df_train['Pclass']==2].fillna(median_age_class2)\n",
    "df_train[df_train['Pclass']==3] = df_train[df_train['Pclass']==3].fillna(median_age_class3)\n",
    "\n",
    "df_test[df_test['Pclass']==1] = df_test[df_test['Pclass']==1].fillna(median_age_class1)\n",
    "df_test[df_test['Pclass']==2] = df_test[df_test['Pclass']==2].fillna(median_age_class2)\n",
    "df_test[df_test['Pclass']==3] = df_test[df_test['Pclass']==3].fillna(median_age_class3)"
   ]
  },
  {
   "cell_type": "markdown",
   "metadata": {},
   "source": [
    "## Prediction models (I) - With no further optimisations"
   ]
  },
  {
   "cell_type": "code",
   "execution_count": 22,
   "metadata": {
    "collapsed": true
   },
   "outputs": [],
   "source": [
    "# Replace categorical variables (Sex, Embarked, Pclass) by dummy variables\n",
    "dummy_sex = pd.get_dummies(df_train['Sex'], prefix='Sex')\n",
    "dummy_embarked = pd.get_dummies(df_train['Embarked'], prefix='Embarked')\n",
    "dummy_pclass = pd.get_dummies(df_train['Pclass'], prefix='Pclass')\n",
    "\n",
    "# Create a clean data frame for the regression\n",
    "cols_to_keep = ['Age', 'SibSp', 'Parch', 'Fare']\n",
    "X_train = df_train[cols_to_keep].join(dummy_sex).join(dummy_embarked).join(dummy_pclass)\n",
    "X_train\n",
    "\n",
    "Y_train = df_train['Survived']\n",
    "\n",
    "# Prepare test dataset\n",
    "# Replace categorical variables (Sex, Embarked, Pclass) by dummy variables\n",
    "dummy_sex = pd.get_dummies(df_test['Sex'], prefix='Sex')\n",
    "dummy_embarked = pd.get_dummies(df_test['Embarked'], prefix='Embarked')\n",
    "dummy_pclass = pd.get_dummies(df_test['Pclass'], prefix='Pclass')\n",
    "X_test = df_test[cols_to_keep].join(dummy_sex).join(dummy_embarked).join(dummy_pclass)\n",
    "#X_test"
   ]
  },
  {
   "cell_type": "code",
   "execution_count": 23,
   "metadata": {},
   "outputs": [
    {
     "name": "stderr",
     "output_type": "stream",
     "text": [
      "/home/seralde/anaconda2/lib/python2.7/site-packages/sklearn/cross_validation.py:44: DeprecationWarning: This module was deprecated in version 0.18 in favor of the model_selection module into which all the refactored classes and functions are moved. Also note that the interface of the new CV iterators are different from that of this module. This module will be removed in 0.20.\n",
      "  \"This module will be removed in 0.20.\", DeprecationWarning)\n"
     ]
    }
   ],
   "source": [
    "'''\n",
    "Score a particular model\n",
    "'''\n",
    "from sklearn.cross_validation import cross_val_score\n",
    "def compute_model_score(model, X_train, Y_train, X_test):\n",
    "    model.fit(X_train,Y_train)\n",
    "    Y_pred = model.predict(X_test)\n",
    "    score = model.score(X_train,Y_train)\n",
    "    return score, Y_pred\n",
    "'''\n",
    "Score a particular model using k-fold cross validation\n",
    "'''\n",
    "def compute_model_score_cv(model, X_train, Y_train, X_test):\n",
    "    fit = model.fit(X_train,Y_train)\n",
    "    Y_pred = model.predict(X_test)\n",
    "    x_val = cross_val_score(fit, X_train, Y_train, cv =5, scoring='accuracy')\n",
    "    return np.mean(x_val), Y_pred"
   ]
  },
  {
   "cell_type": "code",
   "execution_count": 92,
   "metadata": {
    "collapsed": true
   },
   "outputs": [],
   "source": [
    "# Build a table with scores for different models \n",
    "model_list = [{'function': LogisticRegression(), 'name': 'LR'},\n",
    "              {'function': SVC(), 'name': 'SVC'},\n",
    "              {'function': KNeighborsClassifier(n_neighbors = 3), 'name': 'KN-3'},\n",
    "              {'function': DecisionTreeClassifier(), 'name': 'DT'},\n",
    "              {'function': GaussianNB(), 'name': 'GNB'},\n",
    "              {'function': Perceptron(), 'name': 'Perceptron'},\n",
    "              {'function': SGDClassifier(), 'name': 'SGD'},\n",
    "              {'function': RandomForestClassifier(n_estimators=100), 'name': 'Random Forest'}             \n",
    "             ]\n",
    "\n",
    "model_results = []\n",
    "\n",
    "for model in model_list:\n",
    "    score, Y_pred = compute_model_score(model['function'], X_train, Y_train, X_test)\n",
    "    score_cv, Y_pred = compute_model_score_cv(model['function'], X_train, Y_train, X_test)\n",
    "    model_results.append([model['name'], score, score_cv, Y_pred])"
   ]
  },
  {
   "cell_type": "code",
   "execution_count": 25,
   "metadata": {},
   "outputs": [
    {
     "data": {
      "text/html": [
       "<div>\n",
       "<style>\n",
       "    .dataframe thead tr:only-child th {\n",
       "        text-align: right;\n",
       "    }\n",
       "\n",
       "    .dataframe thead th {\n",
       "        text-align: left;\n",
       "    }\n",
       "\n",
       "    .dataframe tbody tr th {\n",
       "        vertical-align: top;\n",
       "    }\n",
       "</style>\n",
       "<table border=\"1\" class=\"dataframe\">\n",
       "  <thead>\n",
       "    <tr style=\"text-align: right;\">\n",
       "      <th></th>\n",
       "      <th>Model</th>\n",
       "      <th>Score</th>\n",
       "      <th>Score-CV</th>\n",
       "      <th>Prediction</th>\n",
       "    </tr>\n",
       "  </thead>\n",
       "  <tbody>\n",
       "    <tr>\n",
       "      <th>7</th>\n",
       "      <td>Random Forest</td>\n",
       "      <td>0.982043</td>\n",
       "      <td>0.808171</td>\n",
       "      <td>[0, 0, 0, 1, 0, 0, 0, 0, 1, 0, 0, 0, 1, 0, 1, ...</td>\n",
       "    </tr>\n",
       "    <tr>\n",
       "      <th>0</th>\n",
       "      <td>LR</td>\n",
       "      <td>0.808081</td>\n",
       "      <td>0.796929</td>\n",
       "      <td>[0, 0, 0, 0, 1, 0, 1, 0, 1, 0, 0, 0, 1, 0, 1, ...</td>\n",
       "    </tr>\n",
       "    <tr>\n",
       "      <th>4</th>\n",
       "      <td>GNB</td>\n",
       "      <td>0.785634</td>\n",
       "      <td>0.783476</td>\n",
       "      <td>[0, 1, 0, 0, 1, 0, 1, 0, 1, 0, 0, 0, 1, 0, 1, ...</td>\n",
       "    </tr>\n",
       "    <tr>\n",
       "      <th>3</th>\n",
       "      <td>DT</td>\n",
       "      <td>0.982043</td>\n",
       "      <td>0.775580</td>\n",
       "      <td>[0, 0, 1, 1, 0, 0, 0, 0, 1, 0, 0, 0, 1, 0, 1, ...</td>\n",
       "    </tr>\n",
       "    <tr>\n",
       "      <th>2</th>\n",
       "      <td>KN-3</td>\n",
       "      <td>0.841751</td>\n",
       "      <td>0.716122</td>\n",
       "      <td>[0, 0, 1, 1, 0, 0, 0, 1, 0, 0, 0, 0, 1, 0, 0, ...</td>\n",
       "    </tr>\n",
       "    <tr>\n",
       "      <th>1</th>\n",
       "      <td>SVC</td>\n",
       "      <td>0.890011</td>\n",
       "      <td>0.713951</td>\n",
       "      <td>[0, 0, 1, 0, 0, 0, 0, 1, 1, 0, 0, 0, 1, 0, 0, ...</td>\n",
       "    </tr>\n",
       "    <tr>\n",
       "      <th>5</th>\n",
       "      <td>Perceptron</td>\n",
       "      <td>0.657688</td>\n",
       "      <td>0.661293</td>\n",
       "      <td>[0, 0, 0, 0, 1, 1, 1, 1, 1, 1, 0, 1, 1, 1, 1, ...</td>\n",
       "    </tr>\n",
       "    <tr>\n",
       "      <th>6</th>\n",
       "      <td>SGD</td>\n",
       "      <td>0.683502</td>\n",
       "      <td>0.568209</td>\n",
       "      <td>[0, 0, 0, 0, 0, 0, 0, 0, 0, 0, 0, 0, 0, 0, 0, ...</td>\n",
       "    </tr>\n",
       "  </tbody>\n",
       "</table>\n",
       "</div>"
      ],
      "text/plain": [
       "           Model     Score  Score-CV  \\\n",
       "7  Random Forest  0.982043  0.808171   \n",
       "0             LR  0.808081  0.796929   \n",
       "4            GNB  0.785634  0.783476   \n",
       "3             DT  0.982043  0.775580   \n",
       "2           KN-3  0.841751  0.716122   \n",
       "1            SVC  0.890011  0.713951   \n",
       "5     Perceptron  0.657688  0.661293   \n",
       "6            SGD  0.683502  0.568209   \n",
       "\n",
       "                                          Prediction  \n",
       "7  [0, 0, 0, 1, 0, 0, 0, 0, 1, 0, 0, 0, 1, 0, 1, ...  \n",
       "0  [0, 0, 0, 0, 1, 0, 1, 0, 1, 0, 0, 0, 1, 0, 1, ...  \n",
       "4  [0, 1, 0, 0, 1, 0, 1, 0, 1, 0, 0, 0, 1, 0, 1, ...  \n",
       "3  [0, 0, 1, 1, 0, 0, 0, 0, 1, 0, 0, 0, 1, 0, 1, ...  \n",
       "2  [0, 0, 1, 1, 0, 0, 0, 1, 0, 0, 0, 0, 1, 0, 0, ...  \n",
       "1  [0, 0, 1, 0, 0, 0, 0, 1, 1, 0, 0, 0, 1, 0, 0, ...  \n",
       "5  [0, 0, 0, 0, 1, 1, 1, 1, 1, 1, 0, 1, 1, 1, 1, ...  \n",
       "6  [0, 0, 0, 0, 0, 0, 0, 0, 0, 0, 0, 0, 0, 0, 0, ...  "
      ]
     },
     "execution_count": 25,
     "metadata": {},
     "output_type": "execute_result"
    }
   ],
   "source": [
    "# Show results obtained sorted by score\n",
    "df_model_results = pd.DataFrame (model_results, columns=('Model', 'Score', 'Score-CV', 'Prediction'))  \n",
    "df_model_results.sort_values(by='Score-CV', ascending=False)"
   ]
  },
  {
   "cell_type": "markdown",
   "metadata": {},
   "source": [
    "### Analyze results\n",
    "* TODO: See which variables are more important. This will help us to optimise the model"
   ]
  },
  {
   "cell_type": "code",
   "execution_count": null,
   "metadata": {
    "collapsed": true
   },
   "outputs": [],
   "source": []
  },
  {
   "cell_type": "markdown",
   "metadata": {},
   "source": [
    "#### Write result in a csv"
   ]
  },
  {
   "cell_type": "code",
   "execution_count": null,
   "metadata": {
    "collapsed": true
   },
   "outputs": [],
   "source": [
    "# Choose model and save its prediction\n",
    "#print df_model_results.loc[7]\n",
    "#Y_pred = df_model_results.loc[7]['Prediction']\n",
    "\n",
    "# Take model with best score\n",
    "Y_pred = df_model_results.sort_values(by='Score-CV', ascending=False).iloc[0]['Prediction']\n",
    "print Y_pred\n",
    "\n",
    "submission = pd.DataFrame({\n",
    "        \"PassengerId\": df_test[\"PassengerId\"],\n",
    "        \"Survived\": Y_pred   \n",
    "})  \n",
    " \n",
    "submission.to_csv('submission.csv', index=False)"
   ]
  },
  {
   "cell_type": "markdown",
   "metadata": {},
   "source": [
    "## Feature Engineering (II)\n",
    "* Apply domain knowledge to see if we can improve the initial results"
   ]
  },
  {
   "cell_type": "markdown",
   "metadata": {},
   "source": [
    "### Playing with 'Name'\n",
    "* The variable 'name' contains not only the firstname and surname of the passenger, but also the title. We may extract something useful if we process this feature. Title may be related to social status, which might have an effect on the survival opportunities in the Titanic.\n",
    "* All names in the dataset have the format 'Surname, Title. Name (aka name)"
   ]
  },
  {
   "cell_type": "code",
   "execution_count": 77,
   "metadata": {},
   "outputs": [
    {
     "name": "stdout",
     "output_type": "stream",
     "text": [
      "Mr              517\n",
      "Miss            182\n",
      "Mrs             125\n",
      "Master           40\n",
      "Dr                7\n",
      "Rev               6\n",
      "Mlle              2\n",
      "Col               2\n",
      "Major             2\n",
      "Lady              1\n",
      "Jonkheer          1\n",
      "Don               1\n",
      "Ms                1\n",
      "Mme               1\n",
      "Capt              1\n",
      "the Countess      1\n",
      "Sir               1\n",
      "Name: Name, dtype: int64\n"
     ]
    }
   ],
   "source": [
    "# Parse the feature to extract all titles\n",
    "def get_title(name):\n",
    "    if '.' in name:\n",
    "        return name.split(',')[1].split('.')[0].strip()\n",
    "    else:\n",
    "        return 'unknown'\n",
    "\n",
    "#list_titles = sorted(set([x for x in train.Name.map(lambda x: get_title(x))]))\n",
    "list_title = df_train['Name'].apply(lambda x: get_title(x))\n",
    "print list_title.value_counts()\n",
    "\n",
    "#list_title = df_test['Name'].apply(lambda x: get_title(x))\n",
    "#print list_title.value_counts()\n",
    "\n",
    "#df_train[df_train['Name'].str.contains('Master')]"
   ]
  },
  {
   "cell_type": "markdown",
   "metadata": {},
   "source": [
    "After having a look on the title, we can notice that there are a few titles that can be merged:\n",
    "* There are not enough occurrences of certain titles. It would be better to create a category for those that seem to belong to cabin crew members\n",
    "* 'Mme' is 'Madame', the French equivalent to Ms. We will transform this title to Miss\n",
    "* 'Mlle' is 'Mademoiselle', the French equivalent to Miss.\n",
    "* 'Col'->Colonel. 'Capt'->Captain. 'Major'\n",
    "* 'Lady' is a noble title, or the wife of a Lord, Baron or Sir.\n",
    "* 'Jonkheer' is Dutch honorific of nobility.\n",
    "* 'Master' is used for male young and unmarried children.\n",
    "* 'Don' is a Spanish noble title. We will merge all noble titles to one value: 'noble'.\n",
    "* 'Rev' is Reverend. Merge it with another title? Think about Dr as well. They could belong to the cabin crew\n",
    "* We will assume that 'Dr' only refers to medical doctors, who could be part of the cabin crew.\n",
    "\n",
    "There might be more honorific titles that are not present in the train data, but in the test data or the score data. It is not possible to take into account all possible titles. "
   ]
  },
  {
   "cell_type": "code",
   "execution_count": 81,
   "metadata": {},
   "outputs": [],
   "source": [
    "# Create a new feature with the title of each person\n",
    "\n",
    "# Map of titles\n",
    "Title_Dictionary = {\n",
    "    \"Mr\" :        \"Mr\",\n",
    "    \"Miss\" :      \"Miss\",\n",
    "    \"Mlle\":       \"Miss\",\n",
    "    \"Mme\":        \"Miss\",\n",
    "    \"Ms\":         \"Miss\",\n",
    "    \"Mrs\" :       \"Mrs\",\n",
    "    \"Master\" :    \"Master\",\n",
    "    \"Dr\":         \"Crew\",\n",
    "    \"Rev\":        \"Crew\",\n",
    "    \"Capt\":       \"Crew\",\n",
    "    \"Col\":        \"Crew\",\n",
    "    \"Major\":      \"Crew\",\n",
    "    \"Jonkheer\":   \"Noble\",\n",
    "    \"Don\":        \"Noble\",\n",
    "    \"Dona\":       \"Noble\",\n",
    "    \"Sir\" :       \"Noble\",\n",
    "    \"Lady\" :      \"Noble\",\n",
    "    \"the Countess\":\"Noble\"\n",
    "}\n",
    "\n",
    "df_train['Title'] = df_train['Name'].apply(lambda x: get_title(x))\n",
    "df_train['Title'] = df_train['Title'].map(Title_Dictionary)\n",
    "\n",
    "df_test['Title'] = df_test['Name'].apply(lambda x: get_title(x))\n",
    "df_test['Title'] = df_test['Title'].map(Title_Dictionary)"
   ]
  },
  {
   "cell_type": "markdown",
   "metadata": {
    "collapsed": true
   },
   "source": [
    "### Playing with: 'Age'\n",
    "* Play with the fact that 'Woman and Child first!'\n",
    "* Possibly create another variables for child (<16) \n",
    "* **TODO** Estimate the age using the missing titles instead of the class?"
   ]
  },
  {
   "cell_type": "code",
   "execution_count": null,
   "metadata": {
    "collapsed": true
   },
   "outputs": [],
   "source": [
    "# Solve NaN in Age before plotting this\n",
    "figure = plt.figure(figsize=(15,8))\n",
    "plt.hist([df_train[df_train['Survived']==1]['Age'],df_train[df_train['Survived']==0]['Age']], \n",
    "         stacked=True, color = ['g','r'],\n",
    "         bins = 20,label = ['Survived','Dead'])\n",
    "plt.xlabel('Age')\n",
    "plt.ylabel('Number of passengers')\n",
    "plt.legend()"
   ]
  },
  {
   "cell_type": "code",
   "execution_count": null,
   "metadata": {
    "collapsed": true
   },
   "outputs": [],
   "source": [
    "def person(passenger):\n",
    "    age, sex = passenger\n",
    "    if age < 16:\n",
    "        return \"child\"\n",
    "    else:\n",
    "        return dict(male=\"man\", female=\"woman\")[sex]\n",
    "\n",
    "# Create 5 intervals for age\n",
    "#pd.cut(df_train['Age'], 5)\n",
    "\n",
    "# Create a new colum    \n",
    "df_train['Person'] = df_train[['Age','Sex']].apply(person, axis=1)\n",
    "    \n",
    "# Survived by Adults and kids (and sex)\n",
    "#fig_survived_by_age = sns.pointplot('Age', 'Survived', data=df_train)\n",
    "fig, axs = plt.subplots(ncols=2)\n",
    "plt.subplots_adjust(left=0.1, bottom=0.1, right=0.9, top=0.9, wspace=0.5, hspace=0.2)\n",
    "fig_person = sns.countplot('Person', data=df_train, ax=axs[0])\n",
    "fig_survived_by_person = sns.pointplot('Person', 'Survived', data=df_train, ax=axs[1])\n",
    "\n",
    "fig_person.set_title('Distribution by Adults or Kids')\n",
    "fig_survived_by_person.set_title('% survival of Man, Woman and Child')\n",
    "fig_survived_by_person.set(ylim=(0, 1.1))"
   ]
  },
  {
   "cell_type": "markdown",
   "metadata": {},
   "source": [
    "### Embarked processing"
   ]
  },
  {
   "cell_type": "code",
   "execution_count": null,
   "metadata": {
    "collapsed": true
   },
   "outputs": [],
   "source": []
  },
  {
   "cell_type": "markdown",
   "metadata": {},
   "source": [
    "### Fare processing"
   ]
  },
  {
   "cell_type": "code",
   "execution_count": null,
   "metadata": {
    "collapsed": true
   },
   "outputs": [],
   "source": [
    "# Checking fare errors or free tickets\n",
    "df_train[['Pclass','Age','Fare']][df_train['Fare']<5]"
   ]
  },
  {
   "cell_type": "markdown",
   "metadata": {},
   "source": [
    "It seems that there are errors in the Fare. Change these values for the median of their class"
   ]
  },
  {
   "cell_type": "code",
   "execution_count": null,
   "metadata": {
    "collapsed": true
   },
   "outputs": [],
   "source": []
  },
  {
   "cell_type": "markdown",
   "metadata": {},
   "source": []
  },
  {
   "cell_type": "code",
   "execution_count": null,
   "metadata": {
    "collapsed": true
   },
   "outputs": [],
   "source": []
  },
  {
   "cell_type": "code",
   "execution_count": null,
   "metadata": {
    "collapsed": true
   },
   "outputs": [],
   "source": []
  },
  {
   "cell_type": "code",
   "execution_count": null,
   "metadata": {
    "collapsed": true
   },
   "outputs": [],
   "source": []
  },
  {
   "cell_type": "markdown",
   "metadata": {
    "collapsed": true
   },
   "source": [
    "### SibSp and Parch processing\n",
    "* SibSp (Number of Siblings/Spouses Aboard) and Parch (Number of Parents/Children Aboard) could be merged into one feature: 'family aboard'\n",
    "* Create variable 'Alone' (or without family), as derivate of SibSp and Parch"
   ]
  },
  {
   "cell_type": "code",
   "execution_count": null,
   "metadata": {
    "collapsed": true
   },
   "outputs": [],
   "source": []
  },
  {
   "cell_type": "markdown",
   "metadata": {},
   "source": [
    "# Prediction models (II) - After more feature engineering"
   ]
  },
  {
   "cell_type": "markdown",
   "metadata": {},
   "source": [
    "** TODO ** Make graph to see the importance of each variable for a model"
   ]
  },
  {
   "cell_type": "code",
   "execution_count": 93,
   "metadata": {},
   "outputs": [],
   "source": [
    "# Replace categorical variables (Sex, Embarked, Pclass) by dummy variables\n",
    "dummy_sex = pd.get_dummies(df_train['Sex'], prefix='Sex')\n",
    "dummy_embarked = pd.get_dummies(df_train['Embarked'], prefix='Embarked')\n",
    "dummy_pclass = pd.get_dummies(df_train['Pclass'], prefix='Pclass')\n",
    "dummy_title = pd.get_dummies(df_train['Title'], prefix='Title')\n",
    "\n",
    "# Create a clean data frame for the regression\n",
    "cols_to_keep = ['Age', 'SibSp', 'Parch', 'Fare']\n",
    "X_train = df_train[cols_to_keep].join(dummy_sex).join(dummy_embarked).join(dummy_pclass).join(dummy_title)\n",
    "X_train\n",
    "\n",
    "Y_train = df_train['Survived']\n",
    "\n",
    "# Prepare test dataset\n",
    "# Replace categorical variables (Sex, Embarked, Pclass) by dummy variables\n",
    "dummy_sex = pd.get_dummies(df_test['Sex'], prefix='Sex')\n",
    "dummy_embarked = pd.get_dummies(df_test['Embarked'], prefix='Embarked')\n",
    "dummy_pclass = pd.get_dummies(df_test['Pclass'], prefix='Pclass')\n",
    "dummy_title = pd.get_dummies(df_test['Title'], prefix='Title')\n",
    "X_test = df_test[cols_to_keep].join(dummy_sex).join(dummy_embarked).join(dummy_pclass).join(dummy_title)\n",
    "#X_test"
   ]
  },
  {
   "cell_type": "code",
   "execution_count": 94,
   "metadata": {},
   "outputs": [],
   "source": [
    "model_results = []\n",
    "\n",
    "for model in model_list:\n",
    "    score, Y_pred = compute_model_score(model['function'], X_train, Y_train, X_test)\n",
    "    score_cv, Y_pred = compute_model_score_cv(model['function'], X_train, Y_train, X_test)\n",
    "    model_results.append([model['name'], score, score_cv, Y_pred])"
   ]
  },
  {
   "cell_type": "code",
   "execution_count": 96,
   "metadata": {},
   "outputs": [
    {
     "data": {
      "text/html": [
       "<div>\n",
       "<style>\n",
       "    .dataframe thead tr:only-child th {\n",
       "        text-align: right;\n",
       "    }\n",
       "\n",
       "    .dataframe thead th {\n",
       "        text-align: left;\n",
       "    }\n",
       "\n",
       "    .dataframe tbody tr th {\n",
       "        vertical-align: top;\n",
       "    }\n",
       "</style>\n",
       "<table border=\"1\" class=\"dataframe\">\n",
       "  <thead>\n",
       "    <tr style=\"text-align: right;\">\n",
       "      <th></th>\n",
       "      <th>Model</th>\n",
       "      <th>Score</th>\n",
       "      <th>Score-CV</th>\n",
       "      <th>Prediction</th>\n",
       "    </tr>\n",
       "  </thead>\n",
       "  <tbody>\n",
       "    <tr>\n",
       "      <th>0</th>\n",
       "      <td>LR</td>\n",
       "      <td>0.831650</td>\n",
       "      <td>0.822709</td>\n",
       "      <td>[0, 1, 0, 0, 1, 0, 1, 0, 1, 0, 0, 0, 1, 0, 1, ...</td>\n",
       "    </tr>\n",
       "    <tr>\n",
       "      <th>7</th>\n",
       "      <td>Random Forest</td>\n",
       "      <td>0.984287</td>\n",
       "      <td>0.812615</td>\n",
       "      <td>[0, 0, 0, 1, 1, 0, 0, 0, 1, 0, 0, 0, 1, 0, 1, ...</td>\n",
       "    </tr>\n",
       "    <tr>\n",
       "      <th>4</th>\n",
       "      <td>GNB</td>\n",
       "      <td>0.805836</td>\n",
       "      <td>0.805855</td>\n",
       "      <td>[0, 1, 0, 0, 1, 0, 1, 0, 1, 0, 0, 0, 1, 0, 1, ...</td>\n",
       "    </tr>\n",
       "    <tr>\n",
       "      <th>3</th>\n",
       "      <td>DT</td>\n",
       "      <td>0.984287</td>\n",
       "      <td>0.779986</td>\n",
       "      <td>[0, 0, 1, 1, 1, 0, 0, 0, 1, 0, 0, 0, 1, 0, 1, ...</td>\n",
       "    </tr>\n",
       "    <tr>\n",
       "      <th>1</th>\n",
       "      <td>SVC</td>\n",
       "      <td>0.882155</td>\n",
       "      <td>0.734144</td>\n",
       "      <td>[0, 0, 0, 0, 0, 0, 0, 1, 1, 0, 0, 0, 1, 0, 0, ...</td>\n",
       "    </tr>\n",
       "    <tr>\n",
       "      <th>2</th>\n",
       "      <td>KN-3</td>\n",
       "      <td>0.838384</td>\n",
       "      <td>0.734075</td>\n",
       "      <td>[0, 0, 1, 1, 0, 0, 0, 1, 0, 0, 0, 0, 1, 0, 1, ...</td>\n",
       "    </tr>\n",
       "    <tr>\n",
       "      <th>6</th>\n",
       "      <td>SGD</td>\n",
       "      <td>0.397306</td>\n",
       "      <td>0.671135</td>\n",
       "      <td>[1, 1, 1, 1, 1, 0, 1, 1, 1, 0, 0, 1, 1, 1, 1, ...</td>\n",
       "    </tr>\n",
       "    <tr>\n",
       "      <th>5</th>\n",
       "      <td>Perceptron</td>\n",
       "      <td>0.720539</td>\n",
       "      <td>0.649872</td>\n",
       "      <td>[0, 0, 0, 0, 0, 0, 0, 1, 1, 0, 0, 0, 1, 0, 1, ...</td>\n",
       "    </tr>\n",
       "  </tbody>\n",
       "</table>\n",
       "</div>"
      ],
      "text/plain": [
       "           Model     Score  Score-CV  \\\n",
       "0             LR  0.831650  0.822709   \n",
       "7  Random Forest  0.984287  0.812615   \n",
       "4            GNB  0.805836  0.805855   \n",
       "3             DT  0.984287  0.779986   \n",
       "1            SVC  0.882155  0.734144   \n",
       "2           KN-3  0.838384  0.734075   \n",
       "6            SGD  0.397306  0.671135   \n",
       "5     Perceptron  0.720539  0.649872   \n",
       "\n",
       "                                          Prediction  \n",
       "0  [0, 1, 0, 0, 1, 0, 1, 0, 1, 0, 0, 0, 1, 0, 1, ...  \n",
       "7  [0, 0, 0, 1, 1, 0, 0, 0, 1, 0, 0, 0, 1, 0, 1, ...  \n",
       "4  [0, 1, 0, 0, 1, 0, 1, 0, 1, 0, 0, 0, 1, 0, 1, ...  \n",
       "3  [0, 0, 1, 1, 1, 0, 0, 0, 1, 0, 0, 0, 1, 0, 1, ...  \n",
       "1  [0, 0, 0, 0, 0, 0, 0, 1, 1, 0, 0, 0, 1, 0, 0, ...  \n",
       "2  [0, 0, 1, 1, 0, 0, 0, 1, 0, 0, 0, 0, 1, 0, 1, ...  \n",
       "6  [1, 1, 1, 1, 1, 0, 1, 1, 1, 0, 0, 1, 1, 1, 1, ...  \n",
       "5  [0, 0, 0, 0, 0, 0, 0, 1, 1, 0, 0, 0, 1, 0, 1, ...  "
      ]
     },
     "execution_count": 96,
     "metadata": {},
     "output_type": "execute_result"
    }
   ],
   "source": [
    "# Show results obtained sorted by score\n",
    "df_model_results = pd.DataFrame (model_results, columns=('Model', 'Score', 'Score-CV', 'Prediction'))  \n",
    "df_model_results.sort_values(by='Score-CV', ascending=False)"
   ]
  },
  {
   "cell_type": "code",
   "execution_count": 98,
   "metadata": {
    "collapsed": true
   },
   "outputs": [],
   "source": [
    "model = RandomForestClassifier(n_estimators=100, max_features='sqrt')\n",
    "fit = model.fit(X_train,Y_train)"
   ]
  },
  {
   "cell_type": "code",
   "execution_count": 112,
   "metadata": {},
   "outputs": [
    {
     "data": {
      "text/html": [
       "<div>\n",
       "<style>\n",
       "    .dataframe thead tr:only-child th {\n",
       "        text-align: right;\n",
       "    }\n",
       "\n",
       "    .dataframe thead th {\n",
       "        text-align: left;\n",
       "    }\n",
       "\n",
       "    .dataframe tbody tr th {\n",
       "        vertical-align: top;\n",
       "    }\n",
       "</style>\n",
       "<table border=\"1\" class=\"dataframe\">\n",
       "  <thead>\n",
       "    <tr style=\"text-align: right;\">\n",
       "      <th></th>\n",
       "      <th>importance</th>\n",
       "    </tr>\n",
       "    <tr>\n",
       "      <th>feature</th>\n",
       "      <th></th>\n",
       "    </tr>\n",
       "  </thead>\n",
       "  <tbody>\n",
       "    <tr>\n",
       "      <th>Title_Noble</th>\n",
       "      <td>0.000944</td>\n",
       "    </tr>\n",
       "    <tr>\n",
       "      <th>Title_Crew</th>\n",
       "      <td>0.004998</td>\n",
       "    </tr>\n",
       "    <tr>\n",
       "      <th>Embarked_Q</th>\n",
       "      <td>0.009334</td>\n",
       "    </tr>\n",
       "    <tr>\n",
       "      <th>Embarked_C</th>\n",
       "      <td>0.010605</td>\n",
       "    </tr>\n",
       "    <tr>\n",
       "      <th>Embarked_S</th>\n",
       "      <td>0.012179</td>\n",
       "    </tr>\n",
       "    <tr>\n",
       "      <th>Title_Master</th>\n",
       "      <td>0.012252</td>\n",
       "    </tr>\n",
       "    <tr>\n",
       "      <th>Pclass_2</th>\n",
       "      <td>0.014578</td>\n",
       "    </tr>\n",
       "    <tr>\n",
       "      <th>Title_Mrs</th>\n",
       "      <td>0.022704</td>\n",
       "    </tr>\n",
       "    <tr>\n",
       "      <th>Pclass_1</th>\n",
       "      <td>0.022805</td>\n",
       "    </tr>\n",
       "    <tr>\n",
       "      <th>Title_Miss</th>\n",
       "      <td>0.025396</td>\n",
       "    </tr>\n",
       "    <tr>\n",
       "      <th>Parch</th>\n",
       "      <td>0.034174</td>\n",
       "    </tr>\n",
       "    <tr>\n",
       "      <th>SibSp</th>\n",
       "      <td>0.053876</td>\n",
       "    </tr>\n",
       "    <tr>\n",
       "      <th>Pclass_3</th>\n",
       "      <td>0.054057</td>\n",
       "    </tr>\n",
       "    <tr>\n",
       "      <th>Sex_female</th>\n",
       "      <td>0.083801</td>\n",
       "    </tr>\n",
       "    <tr>\n",
       "      <th>Sex_male</th>\n",
       "      <td>0.090246</td>\n",
       "    </tr>\n",
       "    <tr>\n",
       "      <th>Title_Mr</th>\n",
       "      <td>0.094884</td>\n",
       "    </tr>\n",
       "    <tr>\n",
       "      <th>Age</th>\n",
       "      <td>0.223011</td>\n",
       "    </tr>\n",
       "    <tr>\n",
       "      <th>Fare</th>\n",
       "      <td>0.230154</td>\n",
       "    </tr>\n",
       "  </tbody>\n",
       "</table>\n",
       "</div>"
      ],
      "text/plain": [
       "              importance\n",
       "feature                 \n",
       "Title_Noble     0.000944\n",
       "Title_Crew      0.004998\n",
       "Embarked_Q      0.009334\n",
       "Embarked_C      0.010605\n",
       "Embarked_S      0.012179\n",
       "Title_Master    0.012252\n",
       "Pclass_2        0.014578\n",
       "Title_Mrs       0.022704\n",
       "Pclass_1        0.022805\n",
       "Title_Miss      0.025396\n",
       "Parch           0.034174\n",
       "SibSp           0.053876\n",
       "Pclass_3        0.054057\n",
       "Sex_female      0.083801\n",
       "Sex_male        0.090246\n",
       "Title_Mr        0.094884\n",
       "Age             0.223011\n",
       "Fare            0.230154"
      ]
     },
     "execution_count": 112,
     "metadata": {},
     "output_type": "execute_result"
    }
   ],
   "source": [
    "features = pd.DataFrame()\n",
    "features['feature'] = X_train.columns\n",
    "features['importance'] = fit.feature_importances_\n",
    "features.sort_values(by=['importance'], ascending=True, inplace=True)\n",
    "features.set_index('feature', inplace=True)\n",
    "features\n",
    "#sns.barplot(x='feature', y='importance', data=features)\n",
    "#sns.countplot('Pclass', data=df_train, ax=axs[1])\n",
    "#features.plot(kind='barh', figsize=(20, 20))"
   ]
  },
  {
   "cell_type": "code",
   "execution_count": 91,
   "metadata": {},
   "outputs": [
    {
     "name": "stdout",
     "output_type": "stream",
     "text": [
      "[0 0 0 1 1 0 0 0 1 0 0 0 1 0 1 1 0 1 0 1 0 1 1 1 1 0 1 1 1 0 0 0 1 0 1 1 0\n",
      " 0 0 1 0 1 0 1 1 0 1 0 1 1 1 0 1 1 0 0 0 0 0 1 0 0 0 1 1 1 1 0 0 1 1 0 0 0\n",
      " 1 0 0 1 0 1 1 0 0 0 0 0 1 0 1 1 1 0 1 0 0 0 1 0 0 0 1 0 0 0 1 0 0 0 0 0 0\n",
      " 1 1 0 1 0 0 1 0 1 1 0 1 0 0 1 0 1 1 0 1 1 0 0 0 0 0 0 0 0 0 1 0 0 1 0 0 0\n",
      " 1 0 1 0 0 1 0 0 1 0 1 1 1 1 1 0 0 0 0 0 1 0 0 0 0 0 0 1 1 0 1 1 0 1 1 0 1\n",
      " 0 1 0 0 0 0 0 1 0 1 0 1 0 0 0 1 1 1 1 0 0 0 0 1 0 0 0 0 0 0 0 1 0 1 0 1 0\n",
      " 1 1 1 0 0 1 0 0 0 1 0 0 1 0 1 1 1 1 1 1 0 0 1 0 1 0 1 0 1 0 0 0 0 0 0 0 1\n",
      " 0 0 0 1 1 0 0 0 0 0 0 0 0 1 1 0 1 0 0 0 0 0 1 1 0 1 0 0 0 0 0 0 0 0 0 0 0\n",
      " 1 0 0 0 0 0 0 0 1 1 1 1 0 0 0 1 0 0 1 1 0 0 0 0 0 0 0 1 1 0 1 0 0 0 1 1 0\n",
      " 1 0 0 0 0 0 1 0 0 0 1 1 1 0 1 0 1 1 0 0 0 1 0 1 0 0 0 0 1 1 1 1 0 0 0 1 1\n",
      " 0 1 0 1 1 1 0 0 0 0 0 0 1 1 1 1 0 0 0 0 0 1 1 0 0 1 0 1 0 0 1 0 1 0 1 0 0\n",
      " 0 1 1 1 1 0 0 1 0 0 1]\n"
     ]
    }
   ],
   "source": [
    "# Choose model and save its prediction\n",
    "#print df_model_results.loc[7]\n",
    "#Y_pred = df_model_results.loc[7]['Prediction']\n",
    "\n",
    "# Take model with best score\n",
    "Y_pred = df_model_results.sort_values(by='Score-CV', ascending=False).iloc[1]['Prediction']\n",
    "print Y_pred\n",
    "\n",
    "submission = pd.DataFrame({\n",
    "        \"PassengerId\": df_test[\"PassengerId\"],\n",
    "        \"Survived\": Y_pred   \n",
    "})  \n",
    " \n",
    "submission.to_csv('submission_titles_RF.csv', index=False)"
   ]
  },
  {
   "cell_type": "markdown",
   "metadata": {},
   "source": [
    "## Simple model (Pclass, Gender, and Fare)\n",
    "* As Fare is not discrete, create buckets for these feature"
   ]
  },
  {
   "cell_type": "code",
   "execution_count": null,
   "metadata": {
    "collapsed": true
   },
   "outputs": [],
   "source": []
  }
 ],
 "metadata": {
  "anaconda-cloud": {},
  "kernelspec": {
   "display_name": "Python [default]",
   "language": "python",
   "name": "python2"
  },
  "language_info": {
   "codemirror_mode": {
    "name": "ipython",
    "version": 2
   },
   "file_extension": ".py",
   "mimetype": "text/x-python",
   "name": "python",
   "nbconvert_exporter": "python",
   "pygments_lexer": "ipython2",
   "version": "2.7.13"
  }
 },
 "nbformat": 4,
 "nbformat_minor": 1
}
