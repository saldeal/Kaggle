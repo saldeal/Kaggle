{
 "cells": [
  {
   "cell_type": "code",
   "execution_count": 1,
   "metadata": {
    "collapsed": false
   },
   "outputs": [],
   "source": [
    "#\n",
    "# Reading train and test data from Titanic dataset (Kaggle-competition)\n",
    "#\n",
    "\n",
    "import csv as csv\n",
    "import numpy as np\n",
    "\n",
    "# Open CSV file for train data\n",
    "train_data_csv = csv.reader(open('data/train.csv', 'rb'))\n",
    "header = train_data_csv.next() \n",
    "\n",
    "# Import data from CSV file into a list and then NumPy array\n",
    "train_data = []\n",
    "for row in train_data_csv:\n",
    "    train_data.append(row)\n",
    "train_data = np.array(train_data)"
   ]
  },
  {
   "cell_type": "code",
   "execution_count": 2,
   "metadata": {
    "collapsed": false
   },
   "outputs": [
    {
     "name": "stdout",
     "output_type": "stream",
     "text": [
      "['PassengerId', 'Survived', 'Pclass', 'Name', 'Sex', 'Age', 'SibSp', 'Parch', 'Ticket', 'Fare', 'Cabin', 'Embarked']\n",
      "['1' '0' '3' 'Braund, Mr. Owen Harris' 'male' '22' '1' '0' 'A/5 21171'\n",
      " '7.25' '' 'S']\n",
      "['2' '1' '1' 'Cumings, Mrs. John Bradley (Florence Briggs Thayer)' 'female'\n",
      " '38' '1' '0' 'PC 17599' '71.2833' 'C85' 'C']\n",
      "Braund, Mr. Owen Harris\n"
     ]
    }
   ],
   "source": [
    "# See the data\n",
    "#print(train_data)\n",
    "print header\n",
    "print train_data[0]\n",
    "print train_data[1]\n",
    "print train_data[0,3]\n",
    "#print train_data[0::,3]"
   ]
  },
  {
   "cell_type": "code",
   "execution_count": 3,
   "metadata": {
    "collapsed": false
   },
   "outputs": [
    {
     "name": "stdout",
     "output_type": "stream",
     "text": [
      "Survival ratio in training data = 38.38%\n"
     ]
    }
   ],
   "source": [
    "# Ratio of survival in training data\n",
    "num_passengers_train = np.size(train_data[0::,1].astype(np.float))\n",
    "num_passengers_train_survived = np.sum(train_data[0::,1].astype(np.float))\n",
    "ratio_survival = num_passengers_train_survived / num_passengers_train\n",
    "print 'Survival ratio in training data = ' + str(round(ratio_survival*100,2)) + \"%\""
   ]
  },
  {
   "cell_type": "code",
   "execution_count": 4,
   "metadata": {
    "collapsed": false
   },
   "outputs": [],
   "source": [
    "# Mask to read only women, or only men data\n",
    "women_only_mask = train_data[0::,4] == 'female'\n",
    "men_only_mask = train_data[0::,4] == 'male'"
   ]
  },
  {
   "cell_type": "code",
   "execution_count": 5,
   "metadata": {
    "collapsed": false
   },
   "outputs": [
    {
     "name": "stdout",
     "output_type": "stream",
     "text": [
      "Women on board = 314\n",
      "Men on board = 577\n",
      "Survival ratio for women in training data = 74.2%\n",
      "Survival ratio for men in training data = 18.89%\n"
     ]
    }
   ],
   "source": [
    "women_on_board = np.size(train_data[women_only_mask,1].astype(np.float))\n",
    "men_on_board = np.size(train_data[men_only_mask,1].astype(np.float))\n",
    "\n",
    "print 'Women on board = ' + str(women_on_board)\n",
    "print 'Men on board = ' + str(men_on_board)\n",
    "\n",
    "num_women_survived = np.sum(train_data[women_only_mask,1].astype(np.float))\n",
    "num_men_survived = np.sum(train_data[men_only_mask,1].astype(np.float))\n",
    "\n",
    "ratio_survival_women = num_women_survived / women_on_board\n",
    "ratio_survival_men = num_men_survived / men_on_board\n",
    "\n",
    "print 'Survival ratio for women in training data = ' + str(round(ratio_survival_women*100,2)) + \"%\"\n",
    "print 'Survival ratio for men in training data = ' + str(round(ratio_survival_men*100,2)) + \"%\""
   ]
  },
  {
   "cell_type": "code",
   "execution_count": 14,
   "metadata": {
    "collapsed": false
   },
   "outputs": [],
   "source": [
    "# Open CSV file for test data\n",
    "test_data = open('data/test.csv', 'rb')\n",
    "test_data_csv = csv.reader(test_data)\n",
    "header = test_data_csv.next()\n",
    "\n",
    "# Prepare file for predition based on gender ONLY\n",
    "prediction_file = open(\"gender_based_model.csv\", \"wb\")\n",
    "prediction_file_csv = csv.writer(prediction_file)\n",
    "prediction_file_csv.writerow([\"PassengerId\", \"Survived\"]) # write the column headers"
   ]
  },
  {
   "cell_type": "code",
   "execution_count": 15,
   "metadata": {
    "collapsed": false
   },
   "outputs": [],
   "source": [
    "# Read test file and make predictions based in the gender\n",
    "for row in test_data_csv:\n",
    "    if row[3] == 'female':\n",
    "        prediction_file_csv.writerow([row[0],'1']) # Predict survival\n",
    "    else:\n",
    "        prediction_file_csv.writerow([row[0],'0']) # Predict NO survival\n",
    "\n",
    "test_data.close()\n",
    "prediction_file.close()"
   ]
  },
  {
   "cell_type": "code",
   "execution_count": null,
   "metadata": {
    "collapsed": true
   },
   "outputs": [],
   "source": [
    "# Now, make predictions taken into account more variables, such as:\n",
    "# pclass (Passenger Class): [1,2,3]\n",
    "# sex: [female,male]\n",
    "# fare (Ticket price): <float value>\n",
    "\n",
    "# For the 'fare' value, we would create different buckets: \n",
    "# For example: [0,10) [10,19) [20,29), [30,39+)\n",
    "fare_step = 10\n",
    "fare_ceiling = 40\n",
    "\n"
   ]
  }
 ],
 "metadata": {
  "anaconda-cloud": {},
  "kernelspec": {
   "display_name": "Python [default]",
   "language": "python",
   "name": "python2"
  },
  "language_info": {
   "codemirror_mode": {
    "name": "ipython",
    "version": 2
   },
   "file_extension": ".py",
   "mimetype": "text/x-python",
   "name": "python",
   "nbconvert_exporter": "python",
   "pygments_lexer": "ipython2",
   "version": "2.7.12"
  }
 },
 "nbformat": 4,
 "nbformat_minor": 1
}
